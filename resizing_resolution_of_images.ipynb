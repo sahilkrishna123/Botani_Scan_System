{
 "cells": [
  {
   "cell_type": "code",
   "execution_count": null,
   "id": "db47aebd",
   "metadata": {},
   "outputs": [],
   "source": [
    "!pip install Pillow\n"
   ]
  },
  {
   "cell_type": "code",
   "execution_count": null,
   "id": "9461bd2e",
   "metadata": {},
   "outputs": [],
   "source": [
    "# Example code for resizing images using Python (using PIL)\n",
    "from PIL import Image\n",
    "\n",
    "def resize_images(image_paths, target_size):\n",
    "    for path in image_paths:\n",
    "        img = Image.open(path)\n",
    "        img_resized = img.resize(target_size, Image.ANTIALIAS)\n",
    "        img_resized.save(path)\n",
    "# Specify the paths of the images you want to resize\n",
    "image_paths_to_resize = ['path/to/image1.jpg', 'path/to/image2.jpg', ...]\n",
    "\n",
    "# Specify the target size\n",
    "target_size = (500, 500)\n"
   ]
  }
 ],
 "metadata": {
  "kernelspec": {
   "display_name": "Python 3 (ipykernel)",
   "language": "python",
   "name": "python3"
  },
  "language_info": {
   "codemirror_mode": {
    "name": "ipython",
    "version": 3
   },
   "file_extension": ".py",
   "mimetype": "text/x-python",
   "name": "python",
   "nbconvert_exporter": "python",
   "pygments_lexer": "ipython3",
   "version": "3.11.5"
  }
 },
 "nbformat": 4,
 "nbformat_minor": 5
}
